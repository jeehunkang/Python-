{
 "cells": [
  {
   "cell_type": "code",
   "execution_count": 21,
   "metadata": {},
   "outputs": [
    {
     "name": "stdout",
     "output_type": "stream",
     "text": [
      "Cell phone\n",
      "1000\n",
      "3\n",
      "3000\n"
     ]
    }
   ],
   "source": [
    "# OOP\n",
    "# Assinging class and using __init__ method \n",
    "# creating method \n",
    "# Setting defaulut value for quantity parameter 0 \n",
    "# assert statement \n",
    "\n",
    "class item:\n",
    "    def __init__(self, name: str, price, quantity = 0):\n",
    "        \n",
    "        \n",
    "        # run validation \n",
    "        \n",
    "        assert price >=0, f\"{price} is not greater than or equal to zero\" \n",
    "        assert quantity >=0, f\"{quantity} is not greater or equal to zero\" \n",
    "       \n",
    "    \n",
    "        # assigning to self object \n",
    "        self.name = name \n",
    "        self.price = price\n",
    "        self.quantity = quantity \n",
    "        \n",
    "    def calculation(self):\n",
    "        return self.price * self.quantity \n",
    "        \n",
    "\n",
    "item1 = item(\"Cell phone\", 1000, 3)\n",
    "\n",
    "print(item1.name)\n",
    "print(item1.price)        \n",
    "print(item1.quantity)     \n",
    "print(item1.calculation())\n",
    "\n",
    "\n",
    "        "
   ]
  },
  {
   "cell_type": "code",
   "execution_count": 50,
   "metadata": {},
   "outputs": [
    {
     "name": "stdout",
     "output_type": "stream",
     "text": [
      "Cell phone\n",
      "1000\n",
      "3\n",
      "3000\n",
      "800.0\n",
      "240.0\n",
      "168.0\n"
     ]
    }
   ],
   "source": [
    "# instance level vs class level using discount \n",
    "\n",
    "class item:\n",
    "    pay_rate = 0.8 # discount \n",
    "    def __init__(self, name: str, price, quantity = 0):\n",
    "        \n",
    "        \n",
    "        # run validation \n",
    "        \n",
    "        assert price >=0, f\"{price} is not greater than or equal to zero\" \n",
    "        assert quantity >=0, f\"{quantity} is not greater or equal to zero\" \n",
    "       \n",
    "    \n",
    "        # assigning to self object \n",
    "        self.name = name \n",
    "        self.price = price\n",
    "        self.quantity = quantity \n",
    "        \n",
    "    def calculation(self):\n",
    "        return self.price * self.quantity \n",
    "        \n",
    "    def discountedprice(self):\n",
    "        self.price = self.price * self.pay_rate\n",
    "\n",
    "item1 = item(\"Cell phone\", 1000, 3)\n",
    "item2 = item(\"TV\", 300, 2)\n",
    "\n",
    "print(item1.name)\n",
    "print(item1.price)        \n",
    "print(item1.quantity)     \n",
    "print(item1.calculation())\n",
    "\n",
    "item1.discountedprice()\n",
    "print(item1.price)\n",
    "\n",
    "item2.discountedprice()\n",
    "print(item2.price)\n",
    "\n",
    "item2.pay_rate = 0.7 \n",
    "item2.discountedprice()\n",
    "print(item2.price)"
   ]
  },
  {
   "cell_type": "code",
   "execution_count": 62,
   "metadata": {},
   "outputs": [
    {
     "name": "stdout",
     "output_type": "stream",
     "text": [
      "[item('Cell phone', 1000, 3), item('TV', 300, 2), item('mouse', 20, 5), item('monitor', 150, 10)]\n",
      "Cell phone\n",
      "TV\n",
      "mouse\n",
      "monitor\n"
     ]
    }
   ],
   "source": [
    "# using append function \n",
    "# using for loop \n",
    "\n",
    "class item:\n",
    "    pay_rate = 0.8 # discount \n",
    "    all = []\n",
    "    def __init__(self, name: str, price, quantity = 0):\n",
    "        \n",
    "        \n",
    "        # run validation \n",
    "        \n",
    "        assert price >=0, f\"{price} is not greater than or equal to zero\" \n",
    "        assert quantity >=0, f\"{quantity} is not greater or equal to zero\" \n",
    "       \n",
    "    \n",
    "        # assigning to self object \n",
    "        self.name = name \n",
    "        self.price = price\n",
    "        self.quantity = quantity \n",
    "        \n",
    "        # actions to execute \n",
    "        item.all.append(self) \n",
    "        \n",
    "    def calculation(self):\n",
    "        return self.price * self.quantity \n",
    "        \n",
    "    def discountedprice(self):\n",
    "        self.price = self.price * self.pay_rate\n",
    "        \n",
    "    def __repr__(self):\n",
    "        return f\"item('{self.name}', {self.price}, {self.quantity})\"\n",
    "\n",
    "item1 = item(\"Cell phone\", 1000, 3)\n",
    "item2 = item(\"TV\", 300, 2)\n",
    "item3 = item(\"mouse\", 20,5)\n",
    "item4 = item(\"monitor\", 150, 10)\n",
    "\n",
    "print(item.all)\n",
    "\n",
    "for instance in item.all:\n",
    "    print(instance.name)"
   ]
  },
  {
   "cell_type": "code",
   "execution_count": null,
   "metadata": {},
   "outputs": [],
   "source": []
  }
 ],
 "metadata": {
  "kernelspec": {
   "display_name": "Python 3",
   "language": "python",
   "name": "python3"
  },
  "language_info": {
   "codemirror_mode": {
    "name": "ipython",
    "version": 3
   },
   "file_extension": ".py",
   "mimetype": "text/x-python",
   "name": "python",
   "nbconvert_exporter": "python",
   "pygments_lexer": "ipython3",
   "version": "3.7.6"
  }
 },
 "nbformat": 4,
 "nbformat_minor": 4
}
